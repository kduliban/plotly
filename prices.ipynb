{
 "cells": [
  {
   "cell_type": "code",
   "execution_count": 1,
   "id": "1f1c9414-ad30-4ca8-9455-2ca7b542ef2b",
   "metadata": {},
   "outputs": [],
   "source": [
    "import pandas as pd\n",
    "import matplotlib.pyplot as plt"
   ]
  },
  {
   "cell_type": "code",
   "execution_count": 20,
   "id": "67e4d66c-784f-45c5-acfd-dfc752c1eb67",
   "metadata": {},
   "outputs": [
    {
     "data": {
      "text/html": [
       "<div>\n",
       "<style scoped>\n",
       "    .dataframe tbody tr th:only-of-type {\n",
       "        vertical-align: middle;\n",
       "    }\n",
       "\n",
       "    .dataframe tbody tr th {\n",
       "        vertical-align: top;\n",
       "    }\n",
       "\n",
       "    .dataframe thead th {\n",
       "        text-align: right;\n",
       "    }\n",
       "</style>\n",
       "<table border=\"1\" class=\"dataframe\">\n",
       "  <thead>\n",
       "    <tr style=\"text-align: right;\">\n",
       "      <th></th>\n",
       "      <th>price</th>\n",
       "      <th>priceUSD</th>\n",
       "    </tr>\n",
       "    <tr>\n",
       "      <th>month</th>\n",
       "      <th></th>\n",
       "      <th></th>\n",
       "    </tr>\n",
       "  </thead>\n",
       "  <tbody>\n",
       "    <tr>\n",
       "      <th>1</th>\n",
       "      <td>2.12</td>\n",
       "      <td>0.5300</td>\n",
       "    </tr>\n",
       "    <tr>\n",
       "      <th>2</th>\n",
       "      <td>2.56</td>\n",
       "      <td>0.6400</td>\n",
       "    </tr>\n",
       "    <tr>\n",
       "      <th>3</th>\n",
       "      <td>3.10</td>\n",
       "      <td>0.7750</td>\n",
       "    </tr>\n",
       "    <tr>\n",
       "      <th>4</th>\n",
       "      <td>3.16</td>\n",
       "      <td>0.7900</td>\n",
       "    </tr>\n",
       "    <tr>\n",
       "      <th>5</th>\n",
       "      <td>3.58</td>\n",
       "      <td>0.8950</td>\n",
       "    </tr>\n",
       "    <tr>\n",
       "      <th>6</th>\n",
       "      <td>5.12</td>\n",
       "      <td>1.2800</td>\n",
       "    </tr>\n",
       "    <tr>\n",
       "      <th>7</th>\n",
       "      <td>5.16</td>\n",
       "      <td>1.2900</td>\n",
       "    </tr>\n",
       "    <tr>\n",
       "      <th>8</th>\n",
       "      <td>5.20</td>\n",
       "      <td>1.3000</td>\n",
       "    </tr>\n",
       "    <tr>\n",
       "      <th>9</th>\n",
       "      <td>4.12</td>\n",
       "      <td>1.0300</td>\n",
       "    </tr>\n",
       "    <tr>\n",
       "      <th>10</th>\n",
       "      <td>4.10</td>\n",
       "      <td>1.0250</td>\n",
       "    </tr>\n",
       "    <tr>\n",
       "      <th>11</th>\n",
       "      <td>3.65</td>\n",
       "      <td>0.9125</td>\n",
       "    </tr>\n",
       "    <tr>\n",
       "      <th>12</th>\n",
       "      <td>4.25</td>\n",
       "      <td>1.0625</td>\n",
       "    </tr>\n",
       "  </tbody>\n",
       "</table>\n",
       "</div>"
      ],
      "text/plain": [
       "       price  priceUSD\n",
       "month                 \n",
       "1       2.12    0.5300\n",
       "2       2.56    0.6400\n",
       "3       3.10    0.7750\n",
       "4       3.16    0.7900\n",
       "5       3.58    0.8950\n",
       "6       5.12    1.2800\n",
       "7       5.16    1.2900\n",
       "8       5.20    1.3000\n",
       "9       4.12    1.0300\n",
       "10      4.10    1.0250\n",
       "11      3.65    0.9125\n",
       "12      4.25    1.0625"
      ]
     },
     "execution_count": 20,
     "metadata": {},
     "output_type": "execute_result"
    }
   ],
   "source": [
    "prices = [\n",
    "\t(1, 2.12),\n",
    "\t(2, 2.56),\n",
    "\t(3, 3.10),\n",
    "\t(4, 3.16),\n",
    "\t(5, 3.58),\n",
    "\t(6, 5.12),\n",
    "\t(7, 5.16),\n",
    "\t(8, 5.20),\n",
    "\t(9, 4.12),\n",
    "\t(10, 4.10),\n",
    "\t(11, 3.65),\n",
    "\t(12, 4.25),\n",
    "\n",
    "]\n",
    "df = pd.DataFrame(prices, columns = ['month', 'price'])\n",
    "df = df.set_index(\"month\")\n",
    "df['priceUSD'] = df['price'].apply(lambda price: price/4)\n",
    "df"
   ]
  },
  {
   "cell_type": "code",
   "execution_count": 27,
   "id": "412e1d29-a256-481a-8a45-b1a00678ef65",
   "metadata": {},
   "outputs": [
    {
     "data": {
      "image/png": "[encoded data removed]",
      "text/plain": [
       "<Figure size 432x288 with 1 Axes>"
      ]
     },
     "metadata": {
      "needs_background": "light"
     },
     "output_type": "display_data"
    }
   ],
   "source": [
    "plt.plot(df.priceUSD, linestyle ='dashed', color='red')\n",
    "plt.title('Price of goods (USD)')\n",
    "plt.xlabel('month')\n",
    "plt.ylim([0,2])\n",
    "plt.grid()"
   ]
  }
 ],
 "metadata": {
  "kernelspec": {
   "display_name": "Python 3 (ipykernel)",
   "language": "python",
   "name": "python3"
  },
  "language_info": {
   "codemirror_mode": {
    "name": "ipython",
    "version": 3
   },
   "file_extension": ".py",
   "mimetype": "text/x-python",
   "name": "python",
   "nbconvert_exporter": "python",
   "pygments_lexer": "ipython3",
   "version": "3.10.5"
  }
 },
 "nbformat": 4,
 "nbformat_minor": 5
}
